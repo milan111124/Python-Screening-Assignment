{
 "cells": [
  {
   "cell_type": "code",
   "execution_count": 42,
   "id": "365a4916",
   "metadata": {},
   "outputs": [
    {
     "name": "stdout",
     "output_type": "stream",
     "text": [
      "this is a placement assignment\n",
      "After replace: this is a screening assignment\n"
     ]
    }
   ],
   "source": [
    "# Question number 1\n",
    "def main():\n",
    "    file=open('example.txt','w')\n",
    "    file.write(\"this is a placement assignment\")\n",
    "    f.close()\n",
    "    file=open('example.txt','r')\n",
    "    if file.mode=='r':\n",
    "        content=file.read()\n",
    "        print(content)\n",
    "    content=content.replace(\"placement\",\"screening\")\n",
    "    print(\"After replace:\",content)\n",
    "if __name__ == \"__main__\":\n",
    "    main()"
   ]
  },
  {
   "cell_type": "raw",
   "id": "34ef2891",
   "metadata": {},
   "source": [
    "# Abstract Class\n",
    "1) A Class derived from ABC class which belong to abc module , is known as abstract class in python.\n",
    "2) ABC class is known as meta class which means a class that defines the behavior of other classes.so we can say that meta \n",
    "   class ABC defines that the class which is derived from it become an abstract class.\n",
    "3) Abstract class have abstract and concrete methods.\n",
    "4) PVM can not create object of an abstract class.\n",
    "\n",
    "EX:-\n",
    "from abc import ABC, abstract method\n",
    "\n",
    "Class Father(ABC):"
   ]
  },
  {
   "cell_type": "code",
   "execution_count": null,
   "id": "1e412c7c",
   "metadata": {},
   "outputs": [],
   "source": [
    "# Multiple Inheritance\n",
    "# 1) If a class derived from more than one parent class , then it is called multiple inheritance.\n",
    " \n",
    "EX:-\n",
    "class Father:\n",
    "    def showF(self):\n",
    "        print(\"Father class method\")\n",
    "class Mother:\n",
    "    def showM(self):\n",
    "        print(\"Mother class method\")\n",
    "class Son(Father,Mother):\n",
    "    def showS(self):\n",
    "        print(\"Son class method\")\n",
    "s=Son()\n",
    "s.showS()\n",
    "s.showF()\n",
    "s.showM()   "
   ]
  },
  {
   "cell_type": "code",
   "execution_count": 55,
   "id": "c3af35d5",
   "metadata": {},
   "outputs": [
    {
     "name": "stdout",
     "output_type": "stream",
     "text": [
      "50\n"
     ]
    }
   ],
   "source": [
    "#Decorators\n",
    "#1) The decorator is a function that accepts a function as a parameter and return a function.\n",
    "#3) Functions are passed as an argument into another function and then called inside the wrapper function.\n",
    "#3) Decorators are used to add some design pattern to a function without changing its structure.\n",
    "#4) Decorators generally defined before the function they are enhancing to apply decorator we first apply the decorator function. for this we use ex. @symbol, @property.\n",
    "def decor1(num):\n",
    "    def inner():\n",
    "        b=num()\n",
    "        multi=b*5\n",
    "        return multi\n",
    "    return inner\n",
    "@decor1\n",
    "def num():\n",
    "    return 10\n",
    "print(num())\n",
    "\n",
    "    "
   ]
  },
  {
   "cell_type": "code",
   "execution_count": 62,
   "id": "a3c496c7",
   "metadata": {},
   "outputs": [
    {
     "name": "stdout",
     "output_type": "stream",
     "text": [
      "this is a delicious toast\n"
     ]
    }
   ],
   "source": [
    "#Question 2\n",
    "\n",
    "from abc import ABC, abstractmethod\n",
    "class Flour(ABC):\n",
    "    @abstractmethod\n",
    "    def make_bread(self):\n",
    "        pass\n",
    "class Toast(Flour):\n",
    "    def make_bread(self):\n",
    "        print(\"this is a delicious toast\")\n",
    "x =Toast()\n",
    "x.make_bread()"
   ]
  },
  {
   "cell_type": "code",
   "execution_count": null,
   "id": "9672f441",
   "metadata": {},
   "outputs": [],
   "source": []
  }
 ],
 "metadata": {
  "kernelspec": {
   "display_name": "Python 3 (ipykernel)",
   "language": "python",
   "name": "python3"
  },
  "language_info": {
   "codemirror_mode": {
    "name": "ipython",
    "version": 3
   },
   "file_extension": ".py",
   "mimetype": "text/x-python",
   "name": "python",
   "nbconvert_exporter": "python",
   "pygments_lexer": "ipython3",
   "version": "3.9.7"
  }
 },
 "nbformat": 4,
 "nbformat_minor": 5
}
